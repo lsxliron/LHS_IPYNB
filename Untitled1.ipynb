{
 "cells": [
  {
   "cell_type": "code",
   "execution_count": null,
   "metadata": {
    "collapsed": false
   },
   "outputs": [],
   "source": [
    "import numpy as np\n",
    "from panns import *"
   ]
  },
  {
   "cell_type": "markdown",
   "metadata": {},
   "source": [
    "# Real Data"
   ]
  },
  {
   "cell_type": "code",
   "execution_count": null,
   "metadata": {
    "collapsed": false
   },
   "outputs": [],
   "source": [
    "X = np.load('/Users/lsxliron/Desktop/Fortran_INP-FLUX/Jan2005.npy')[0:10000]"
   ]
  },
  {
   "cell_type": "markdown",
   "metadata": {},
   "source": [
    "# Toy Data"
   ]
  },
  {
   "cell_type": "code",
   "execution_count": 15,
   "metadata": {
    "collapsed": false
   },
   "outputs": [
    {
     "data": {
      "text/plain": [
       "array([-3.15796753, -3.0657342 , -3.1151856 ])"
      ]
     },
     "execution_count": 15,
     "metadata": {},
     "output_type": "execute_result"
    }
   ],
   "source": []
  },
  {
   "cell_type": "code",
   "execution_count": null,
   "metadata": {
    "collapsed": false
   },
   "outputs": [],
   "source": [
    "p = PannsIndex(metric=\"euclidean\")\n",
    "p.parallelize(True)\n",
    "p.load(\"/Users/lsxliron/Desktop/dispy/jan2005-3.idx\")"
   ]
  },
  {
   "cell_type": "code",
   "execution_count": null,
   "metadata": {
    "collapsed": false,
    "scrolled": true
   },
   "outputs": [],
   "source": [
    "import time\n",
    "t1 = time.time()\n",
    "tempnns = list()\n",
    "r=999999\n",
    "for i in xrange(0,10000):\n",
    "    if i%100==0:\n",
    "        print i\n",
    "    query = p.query(X[i], 200)\n",
    "    tempnns.append(np.array([x[0] for x in query if x[0]<r], dtype=np.int64))\n",
    "# t2 = time.time()\n",
    "# tempnns = [p.query(pt, 15) for pt in X]\n",
    "t2 = time.time()\n",
    "tempnns[len(tempnns)-1] = tempnns[len(tempnns)-1][:-1]\n",
    "\n",
    "nbh = np.array(tempnns, dtype=object)\n",
    "\n",
    "     \n",
    "print \"TIME ELAPSED: {}\".format(int(t2-t1))\n"
   ]
  },
  {
   "cell_type": "code",
   "execution_count": null,
   "metadata": {
    "collapsed": false
   },
   "outputs": [],
   "source": [
    "np.save('njan2005.npy', nbh)"
   ]
  },
  {
   "cell_type": "code",
   "execution_count": null,
   "metadata": {
    "collapsed": false
   },
   "outputs": [],
   "source": [
    "from sklearn.cluster import DBSCAN\n",
    "from sklearn import metrics\n",
    "from sklearn.datasets.samples_generator import make_blobs\n",
    "from sklearn.preprocessing import StandardScaler\n",
    "import numpy as np\n",
    "from sklearn import metrics\n",
    "\n",
    "neighborhoods = np.load('njan2005.npy')\n",
    "X = np.load('/Users/lsxliron/Desktop/Fortran_INP-FLUX/Jan2005.npy')[0:10000]\n",
    "model = {'neighborhoods':neighborhoods}\n",
    "\n",
    "print \"Done\\nClustering\"\n",
    "%time db = DBSCAN(eps=133, min_samples=200, algorithm=\"LSHF\", lshModel=model).fit(X)\n",
    "print \"Finished\"\n",
    "print \"unique labels: {}\".format(set(db.labels_))"
   ]
  },
  {
   "cell_type": "code",
   "execution_count": null,
   "metadata": {
    "collapsed": false
   },
   "outputs": [],
   "source": [
    "list(db.labels_).count(-1)"
   ]
  },
  {
   "cell_type": "code",
   "execution_count": null,
   "metadata": {
    "collapsed": false
   },
   "outputs": [],
   "source": [
    "%matplotlib inline\n",
    "from sklearn.manifold import TSNE\n",
    "import matplotlib.pyplot as plt\n",
    "core_samples_mask = np.zeros_like(db.labels_, dtype=bool)\n",
    "core_samples_mask[db.core_sample_indices_] = True\n",
    "labels = db.labels_\n",
    "fig = plt.figure(figsize=(12, 12), dpi=100)\n",
    "unique_lables = set(labels)\n",
    "print \"Done\\nReducing dimensions\"\n",
    "model = TSNE(n_components=2, random_state=0)\n",
    "z = model.fit_transform(X)\n",
    "# z=X\n",
    "print \"Done\\nPlotting...\"\n",
    "# # Black removed and is used for noise instead.\n",
    "unique_labels = set(labels)\n",
    "colors = plt.cm.Spectral(np.linspace(0, 1, len(unique_labels)))\n",
    "print unique_labels\n",
    "for k, col in zip(unique_labels, colors):\n",
    "    if k == -1:\n",
    "        # Black used for noise.\n",
    "        col = 'k'\n",
    "\n",
    "    class_member_mask = (labels == k)\n",
    "\n",
    "    xy = z[class_member_mask & core_samples_mask]\n",
    "    plt.plot(xy[:, 0], xy[:, 1], 'o', markerfacecolor=col,\n",
    "             markeredgecolor='k', markersize=6)\n",
    "\n",
    "#     xy = z[class_member_mask & ~core_samples_mask]\n",
    "#     plt.plot(xy[:, 0], xy[:, 1], 'o', markerfacecolor=col,\n",
    "#              markeredgecolor='k', markersize=6)\n",
    "\n",
    "# plt.title('Estimated number of clusters: %d' % n_clusters_)\n",
    "plt.show()"
   ]
  },
  {
   "cell_type": "code",
   "execution_count": null,
   "metadata": {
    "collapsed": true
   },
   "outputs": [],
   "source": []
  }
 ],
 "metadata": {
  "kernelspec": {
   "display_name": "Python 2",
   "language": "python",
   "name": "python2"
  },
  "language_info": {
   "codemirror_mode": {
    "name": "ipython",
    "version": 2
   },
   "file_extension": ".py",
   "mimetype": "text/x-python",
   "name": "python",
   "nbconvert_exporter": "python",
   "pygments_lexer": "ipython2",
   "version": "2.7.10"
  }
 },
 "nbformat": 4,
 "nbformat_minor": 0
}
